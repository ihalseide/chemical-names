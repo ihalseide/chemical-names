{
 "cells": [
  {
   "cell_type": "markdown",
   "metadata": {},
   "source": [
    "### Currently working on:\n",
    "function validate_formula"
   ]
  },
  {
   "cell_type": "code",
   "execution_count": 41,
   "metadata": {},
   "outputs": [],
   "source": [
    "import re\n",
    "\n",
    "ELEMENT = r'([A-Z][a-z]?)([0-9]*)'\n",
    "ELEMENT_RE = re.compile(ELEMENT)"
   ]
  },
  {
   "cell_type": "code",
   "execution_count": 2,
   "metadata": {},
   "outputs": [],
   "source": [
    "def make_tuple(value):\n",
    "    if isinstance(value, tuple):\n",
    "        return value\n",
    "    elif isinstance(value, list):\n",
    "        return tuple(list)\n",
    "    else:\n",
    "        return (value,)\n",
    "    \n",
    "class Ion:\n",
    "    def __init__(self, symbol, name, charges, ide_name = None, is_compound=False):\n",
    "        self.symbol = str(symbol)\n",
    "        self.name = str(name).lower()\n",
    "        self.charges = make_tuple(charges)\n",
    "        self.ide_name = str(ide_name).lower()\n",
    "        self.is_compound = bool(is_compound)\n",
    "        \n",
    "    def __str__(self):\n",
    "        return self.symbol\n",
    "    \n",
    "    def __repr__(self):\n",
    "        return '<'+self.symbol+'>'"
   ]
  },
  {
   "cell_type": "code",
   "execution_count": 17,
   "metadata": {},
   "outputs": [
    {
     "name": "stdout",
     "output_type": "stream",
     "text": [
      "H     | hydrogen\n",
      "He    | helium\n",
      "Li    | lithium\n",
      "Be    | beryllium\n",
      "B     | boron\n",
      "C     | carbon\n",
      "N     | nitrogen\n",
      "O     | oxygen\n",
      "F     | fluorine\n",
      "Ne    | neon\n",
      "Na    | sodium\n",
      "Mg    | magnesium\n",
      "Al    | aluminum\n",
      "Si    | silicon\n",
      "P     | phosphorus\n",
      "S     | sulfur\n",
      "Cl    | chlorine\n",
      "OH    | hydroxide\n"
     ]
    }
   ],
   "source": [
    "# Elements incomplete!\n",
    "ELEMENTS = tuple([Ion(*e) for e in (\n",
    "    ('H', 'hydrogen', +1),\n",
    "    ('He', 'helium', 0),\n",
    "    ('Li', 'lithium', +1),\n",
    "    ('Be', 'beryllium', +2),\n",
    "    ('B', 'boron', ()),\n",
    "    ('C', 'carbon', -4, 'carbide'),\n",
    "    ('N', 'nitrogen', -3, 'nitride'),\n",
    "    ('O', 'oxygen', -2, 'oxide'),\n",
    "    ('F', 'fluorine', -1, 'fluoride'),\n",
    "    ('Ne', 'neon', 0),\n",
    "    ('Na', 'sodium', +1),\n",
    "    ('Mg', 'magnesium', +2),\n",
    "    ('Al', 'aluminum', +3),\n",
    "    ('Si', 'silicon', +3),\n",
    "    ('P', 'phosphorus', -3),\n",
    "    ('S', 'sulfur', -2, 'sulfide'),\n",
    "    ('Cl', 'chlorine', -1, 'chloride'),\n",
    ")])\n",
    "\n",
    "COMPOUND_IONS = tuple([Ion(*i, is_compound=True) for i in (\n",
    "    ('OH', 'hydroxide', -1),\n",
    ")])\n",
    "\n",
    "IONS = ELEMENTS + COMPOUND_IONS\n",
    "\n",
    "for i in IONS:\n",
    "    print(str.ljust(i.symbol, 5), '|', i.name)"
   ]
  },
  {
   "cell_type": "code",
   "execution_count": 4,
   "metadata": {},
   "outputs": [],
   "source": [
    "def read_element(string: str, index: int = 0):\n",
    "    '--> (symbol, number, last index)'\n",
    "    pat = re.compile(r'([A-Z][a-z]?)([0-9]*)')\n",
    "    substr = string[index:]\n",
    "    result = pat.search(substr)\n",
    "    if result:\n",
    "        symbol, num = result.group(1), result.group(2)\n",
    "        if num:\n",
    "            num = int(num)\n",
    "        else:\n",
    "            num = 1\n",
    "        end_index = result.end() + index\n",
    "        return symbol, num, end_index\n",
    "    else:\n",
    "        return None, None, index"
   ]
  },
  {
   "cell_type": "code",
   "execution_count": 5,
   "metadata": {},
   "outputs": [],
   "source": [
    "def read_elements(string: str):\n",
    "    index = 0\n",
    "    elements = []\n",
    "    while True:\n",
    "        sym, num, index = read_element(string, index)\n",
    "        if sym:\n",
    "            elements.append((sym, num))\n",
    "        else:\n",
    "            break\n",
    "    return elements"
   ]
  },
  {
   "cell_type": "code",
   "execution_count": 6,
   "metadata": {},
   "outputs": [],
   "source": [
    "def read_ion(string, index):\n",
    "    pass"
   ]
  },
  {
   "cell_type": "code",
   "execution_count": 7,
   "metadata": {},
   "outputs": [
    {
     "name": "stdout",
     "output_type": "stream",
     "text": [
      "0 None\n",
      "1 i\n",
      "2 ii\n",
      "3 iii\n",
      "4 iv\n",
      "5 v\n",
      "6 None\n"
     ]
    }
   ],
   "source": [
    "def roman(num: int):\n",
    "    # We just need a few small integers because nothing should get bigger than 5\n",
    "    if 1 <= num <= 5:\n",
    "        return ('i', 'ii', 'iii', 'iv', 'v')[num - 1]\n",
    "\n",
    "for i in range(7):\n",
    "    print(i, roman(i))"
   ]
  },
  {
   "cell_type": "code",
   "execution_count": 33,
   "metadata": {},
   "outputs": [],
   "source": [
    "#TODO: make better\n",
    "def get_element(symbol):\n",
    "    for element in ELEMENTS:\n",
    "        if element.symbol == symbol:\n",
    "            return element\n",
    "    raise ValueError('Element for symbol {} not found'.format(symbol))"
   ]
  },
  {
   "cell_type": "code",
   "execution_count": 34,
   "metadata": {},
   "outputs": [],
   "source": [
    "def get_element_named(name):\n",
    "    for element in ELEMENTS:\n",
    "        if element.name == name:\n",
    "            return element\n",
    "    raise ValueError('Element called {} not found'.format(name))\n"
   ]
  },
  {
   "cell_type": "code",
   "execution_count": null,
   "metadata": {},
   "outputs": [],
   "source": []
  },
  {
   "cell_type": "code",
   "execution_count": 28,
   "metadata": {},
   "outputs": [
    {
     "name": "stdout",
     "output_type": "stream",
     "text": [
      "\"H2O\" --> (True, None)\n",
      "\n",
      "\"H2O2\" --> (True, None)\n",
      "\n",
      "\"73\" --> (False, 'Invalid format or characters')\n",
      "\n",
      "\"\" --> (False, 'Invalid format or characters')\n",
      "\n",
      "\" \" --> (False, 'Invalid format or characters')\n",
      "\n",
      "\"C-4\" --> (False, 'Invalid format or characters')\n",
      "\n",
      "\"TNT\" --> (False, 'Invalid elemental symbol')\n",
      "\n",
      "\"PeNO3\" --> (False, 'Invalid elemental symbol')\n",
      "\n"
     ]
    }
   ],
   "source": [
    "\n",
    "def validate_formula(formula):\n",
    "    # check the conventions\n",
    "    elements = read_elements(formula)\n",
    "    # The easiest way I can think of doing this is getting the individual elements unpacked\n",
    "    # and then seeing if re-packing them produces the same result as the input.\n",
    "    valid = re.compile(r'(([A-Z][a-z]?)([0-9]*))+')\n",
    "    if not valid.fullmatch(formula):\n",
    "        return False, 'Invalid format or characters'\n",
    "    # check the elements exist and the charges add up \n",
    "    # WARNING: THE CHARGES ADDING UP MIGHT HAVE EXCEPTIONS I DON'T KNOW ABOUT\n",
    "    elements = read_elements(formula)\n",
    "    symbols = {e.symbol : e for e in ELEMENTS}\n",
    "#     total_charge = 0\n",
    "    for element, num in elements:\n",
    "        # Check that the element is valid\n",
    "        if element not in symbols:\n",
    "            return False, 'Invalid elemental symbol'\n",
    "#         charge = symbols[element].charges[0]\n",
    "#         total_charge += charge * num\n",
    "#     if not total_charge == 0:\n",
    "#         return False, 'Charge doesn\\'t balance'\n",
    "    return True, None\n",
    "\n",
    "formulas = [\n",
    "    'H2O', 'H2O2', '73', '', ' ', 'C-4', 'TNT', 'PeNO3'\n",
    "]\n",
    "for f in formulas:\n",
    "    v = validate_formula(f)\n",
    "    print('\"{}\" --> {}'.format(f, v))\n",
    "    print()"
   ]
  },
  {
   "cell_type": "code",
   "execution_count": 38,
   "metadata": {},
   "outputs": [],
   "source": [
    "def name_chemical(formula: str):\n",
    "    is_valid, problem = validate_formula(formula)\n",
    "    if not is_valid:\n",
    "        raise ValueError('Invalid formula: ' + problem)\n",
    "    formula = formula.strip()\n",
    "    symbols_and_nums = read_elements(formula)\n",
    "    elements = [get_element(x[0]) for x in symbols_and_nums]\n",
    "    amounts = [x[1] for x in symbols_and_nums]\n",
    "    num_elements = len(elements)\n",
    "    pass\n",
    "        "
   ]
  },
  {
   "cell_type": "code",
   "execution_count": 40,
   "metadata": {},
   "outputs": [
    {
     "name": "stdout",
     "output_type": "stream",
     "text": [
      "H2O\n",
      "None\n",
      "\n",
      "H2O2\n",
      "None\n",
      "\n",
      "73\n",
      "Invalid.\n",
      "\n",
      "\n",
      "Invalid.\n",
      "\n",
      " \n",
      "Invalid.\n",
      "\n",
      "C-4\n",
      "Invalid.\n",
      "\n",
      "TNT\n",
      "Invalid.\n",
      "\n",
      "PeNO3\n",
      "Invalid.\n",
      "\n"
     ]
    }
   ],
   "source": [
    "for f in formulas:\n",
    "    print(f)\n",
    "    try:\n",
    "        print(name_chemical(f))\n",
    "    except ValueError:\n",
    "        print('Invalid.')\n",
    "    print()"
   ]
  },
  {
   "cell_type": "code",
   "execution_count": 12,
   "metadata": {},
   "outputs": [
    {
     "name": "stdout",
     "output_type": "stream",
     "text": [
      "Enter formula: H2O2\n",
      "[('H', 2), ('O', 2)]\n"
     ]
    },
    {
     "ename": "ValueError",
     "evalue": "too many values to unpack (expected 2)",
     "output_type": "error",
     "traceback": [
      "\u001b[1;31m---------------------------------------------------------------------------\u001b[0m",
      "\u001b[1;31mValueError\u001b[0m                                Traceback (most recent call last)",
      "\u001b[1;32m<ipython-input-12-b5b520ea86d9>\u001b[0m in \u001b[0;36m<module>\u001b[1;34m\u001b[0m\n\u001b[0;32m      1\u001b[0m \u001b[0mi\u001b[0m \u001b[1;33m=\u001b[0m \u001b[0minput\u001b[0m\u001b[1;33m(\u001b[0m\u001b[1;34m'Enter formula: '\u001b[0m\u001b[1;33m)\u001b[0m\u001b[1;33m\u001b[0m\u001b[1;33m\u001b[0m\u001b[0m\n\u001b[1;32m----> 2\u001b[1;33m \u001b[0mname_chemical\u001b[0m\u001b[1;33m(\u001b[0m\u001b[0mi\u001b[0m\u001b[1;33m)\u001b[0m\u001b[1;33m\u001b[0m\u001b[1;33m\u001b[0m\u001b[0m\n\u001b[0m",
      "\u001b[1;32m<ipython-input-11-44891b00ca88>\u001b[0m in \u001b[0;36mname_chemical\u001b[1;34m(formula)\u001b[0m\n\u001b[0;32m      1\u001b[0m \u001b[1;32mdef\u001b[0m \u001b[0mname_chemical\u001b[0m\u001b[1;33m(\u001b[0m\u001b[0mformula\u001b[0m\u001b[1;33m:\u001b[0m \u001b[0mstr\u001b[0m\u001b[1;33m)\u001b[0m\u001b[1;33m:\u001b[0m\u001b[1;33m\u001b[0m\u001b[1;33m\u001b[0m\u001b[0m\n\u001b[1;32m----> 2\u001b[1;33m     \u001b[0mis_valid\u001b[0m\u001b[1;33m,\u001b[0m \u001b[0mproblem\u001b[0m \u001b[1;33m=\u001b[0m \u001b[0mvalidate_formula\u001b[0m\u001b[1;33m(\u001b[0m\u001b[0mformula\u001b[0m\u001b[1;33m)\u001b[0m\u001b[1;33m\u001b[0m\u001b[1;33m\u001b[0m\u001b[0m\n\u001b[0m\u001b[0;32m      3\u001b[0m     \u001b[1;32mif\u001b[0m \u001b[1;32mnot\u001b[0m \u001b[0mis_valid\u001b[0m\u001b[1;33m:\u001b[0m\u001b[1;33m\u001b[0m\u001b[1;33m\u001b[0m\u001b[0m\n\u001b[0;32m      4\u001b[0m         \u001b[1;32mraise\u001b[0m \u001b[0mValueError\u001b[0m\u001b[1;33m(\u001b[0m\u001b[1;34m'Invalid formula: '\u001b[0m \u001b[1;33m+\u001b[0m \u001b[0mproblem\u001b[0m\u001b[1;33m)\u001b[0m\u001b[1;33m\u001b[0m\u001b[1;33m\u001b[0m\u001b[0m\n\u001b[0;32m      5\u001b[0m     \u001b[0mformula\u001b[0m \u001b[1;33m=\u001b[0m \u001b[0mformula\u001b[0m\u001b[1;33m.\u001b[0m\u001b[0mstrip\u001b[0m\u001b[1;33m(\u001b[0m\u001b[1;33m)\u001b[0m\u001b[1;33m\u001b[0m\u001b[1;33m\u001b[0m\u001b[0m\n",
      "\u001b[1;31mValueError\u001b[0m: too many values to unpack (expected 2)"
     ]
    }
   ],
   "source": [
    "i = input('Enter formula: ')\n",
    "name_chemical(i)"
   ]
  },
  {
   "cell_type": "code",
   "execution_count": null,
   "metadata": {},
   "outputs": [],
   "source": []
  },
  {
   "cell_type": "code",
   "execution_count": null,
   "metadata": {},
   "outputs": [],
   "source": []
  }
 ],
 "metadata": {
  "kernelspec": {
   "display_name": "Python 3",
   "language": "python",
   "name": "python3"
  },
  "language_info": {
   "codemirror_mode": {
    "name": "ipython",
    "version": 3
   },
   "file_extension": ".py",
   "mimetype": "text/x-python",
   "name": "python",
   "nbconvert_exporter": "python",
   "pygments_lexer": "ipython3",
   "version": "3.7.4"
  }
 },
 "nbformat": 4,
 "nbformat_minor": 2
}
